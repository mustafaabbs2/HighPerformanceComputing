{
    "cells": [
        {
            "cell_type": "code",
            "execution_count": 1,
            "source": [
                "  \r\n",
                "# Add with a single thread on the GPU\r\n",
                "\r\n",
                "import pycuda.driver as cuda\r\n",
                "import pycuda.autoinit\r\n",
                "from pycuda.compiler import SourceModule\r\n",
                "\r\n",
                "import numpy\r\n",
                "\r\n"
            ],
            "outputs": [],
            "metadata": {}
        },
        {
            "cell_type": "code",
            "execution_count": 6,
            "source": [
                "# Define CUDA function\r\n",
                "mod = SourceModule(\"\"\"\r\n",
                "__global__ void add(int *a, int *b, int *c)  {\r\n",
                "  int id = blockIdx.x;\r\n",
                "  c[id] = a[id] + b[id];\r\n",
                "}\"\"\")\r\n",
                "\r\n",
                "func = mod.get_function(\"add\")\r\n",
                "\r\n",
                "# Vector size\r\n",
                "N = 100\r\n",
                "\r\n",
                "# Host vectors\r\n",
                "a = numpy.array(range(0,N))\r\n",
                "b = 1 - a\r\n",
                "c = numpy.zeros(N)\r\n",
                "\r\n",
                "a = a.astype(numpy.int32)\r\n",
                "b = b.astype(numpy.int32)\r\n",
                "c = c.astype(numpy.int32)\r\n",
                "\r\n",
                "# Allocate on device\r\n",
                "a_gpu = cuda.mem_alloc(a.size * a.dtype.itemsize)\r\n",
                "b_gpu = cuda.mem_alloc(b.size * b.dtype.itemsize)\r\n",
                "c_gpu = cuda.mem_alloc(c.size * c.dtype.itemsize)\r\n",
                "\r\n",
                "# Copy from host to device\r\n",
                "cuda.memcpy_htod(a_gpu, a)\r\n",
                "cuda.memcpy_htod(b_gpu, b)\r\n",
                "\r\n",
                "func(a_gpu, b_gpu, c_gpu, block=(1,1,1), grid=(N,1))\r\n",
                "\r\n",
                "# Copy result to host\r\n",
                "cuda.memcpy_dtoh(c, c_gpu)\r\n",
                "\r\n",
                "# Display results\r\n",
                "print(\"Should be %d\" % N)\r\n",
                "print(\"Results: %d\" % numpy.sum(c))"
            ],
            "outputs": [
                {
                    "output_type": "stream",
                    "name": "stdout",
                    "text": [
                        "Should be 100\n",
                        "Results: 100\n"
                    ]
                }
            ],
            "metadata": {}
        },
        {
            "cell_type": "code",
            "execution_count": 4,
            "source": [
                "import pycuda.gpuarray as gpuarray \r\n",
                "a_gpu = gpuarray.to_gpu(numpy.random.randn(4,4).astype(numpy.float32))\r\n",
                "a_doubled = (a_gpu).get()\r\n",
                "print(a_doubled)\r\n",
                "print(a_gpu)"
            ],
            "outputs": [
                {
                    "output_type": "stream",
                    "name": "stdout",
                    "text": [
                        "[[-0.39456362 -0.2233163  -1.5685459  -1.1875296 ]\n",
                        " [-0.8722133   0.21616156 -0.03867308 -0.49743065]\n",
                        " [-0.83817786 -2.2521834  -1.7828822  -0.3493693 ]\n",
                        " [ 0.03721766 -0.17830046  0.848356    0.345347  ]]\n",
                        "[[-0.39456362 -0.2233163  -1.5685459  -1.1875296 ]\n",
                        " [-0.8722133   0.21616156 -0.03867308 -0.49743065]\n",
                        " [-0.83817786 -2.2521834  -1.7828822  -0.3493693 ]\n",
                        " [ 0.03721766 -0.17830046  0.848356    0.345347  ]]\n"
                    ]
                }
            ],
            "metadata": {}
        },
        {
            "cell_type": "code",
            "execution_count": null,
            "source": [],
            "outputs": [],
            "metadata": {}
        }
    ],
    "metadata": {
        "orig_nbformat": 4,
        "language_info": {
            "name": "python",
            "version": "3.6.13",
            "mimetype": "text/x-python",
            "codemirror_mode": {
                "name": "ipython",
                "version": 3
            },
            "pygments_lexer": "ipython3",
            "nbconvert_exporter": "python",
            "file_extension": ".py"
        },
        "kernelspec": {
            "name": "python3",
            "display_name": "Python 3.6.13 64-bit ('base': conda)"
        },
        "interpreter": {
            "hash": "31975310e00e99f57aeed412d6ffb9743c7c73cc4e7d67665efbf43b79b6a0d8"
        }
    },
    "nbformat": 4,
    "nbformat_minor": 2
}